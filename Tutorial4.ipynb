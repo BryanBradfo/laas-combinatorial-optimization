{
 "cells": [
  {
   "attachments": {},
   "cell_type": "markdown",
   "metadata": {},
   "source": [
    "# Tutorial 4: Scheduling with CP: Some Basics "
   ]
  },
  {
   "attachments": {},
   "cell_type": "markdown",
   "metadata": {},
   "source": [
    "Today we discover a new family of problems, called scheduling. Scheduling problems are widely present in real life applications such as timetabelling, transportation, project management, and manufacturing. We consider a particular problem called the job shop scheduling problem.  In this problem, we are given a set of $n$ jobs: $J_1, J_2, \\ldots,  J_n$ and a set of $m$ machines $M_1, M_2, \\ldots,  M_m$. \n",
    "Each job $J_i$ is defined by a set of $m$ (non-preemptive) tasks $T_{i,1} \\ldots T_{i,m}$. Every task $T_{i,k}$ is associated with a duration $p_{i,k}$ and is supposed to be scheduled on machine $M_k$. \n",
    "\n",
    "The problem has two sets of constraints: \n",
    "\n",
    " - Precedence constraints: Each job is associated with an order of tasks to respect when scheduling the different tasks.\n",
    " - Disjunctive constraints: Each machine can process only one task at a given time\n",
    "\n",
    "\n",
    "The standard optimisation version of this problem asks to minimize the makespan, i.e., the total scheduling time.\n"
   ]
  },
  {
   "attachments": {},
   "cell_type": "markdown",
   "metadata": {},
   "source": [
    "Constraint programming has been widely and successfully used to solve scheduling problems. Many global constraints have been proposed. CP solvers often offer a dedicated library for scheduling. \n",
    "Please have a look at the diffrent features proposed in docplex here http://ibmdecisionoptimization.github.io/docplex-doc/cp/docplex.cp.modeler.py.html?highlight=scheduling#scheduling-functions \n"
   ]
  },
  {
   "attachments": {},
   "cell_type": "markdown",
   "metadata": {},
   "source": [
    "In this tutorial, we will be using (only): \n",
    " - Interval variables for the different variables of the problem:  http://ibmdecisionoptimization.github.io/docplex-doc/cp/docplex.cp.expression.py.html?highlight=interval_var#docplex.cp.expression.interval_var\n",
    " \n",
    " - end_before_start constraints to model precedence constraints : http://ibmdecisionoptimization.github.io/docplex-doc/cp/docplex.cp.modeler.py.html?highlight=end_before_start#docplex.cp.modeler.end_before_start\n",
    "\n",
    "- no_overlap global constraint : http://ibmdecisionoptimization.github.io/docplex-doc/cp/docplex.cp.modeler.py.html?highlight=no_overlap#docplex.cp.modeler.no_overlap\n"
   ]
  },
  {
   "attachments": {},
   "cell_type": "markdown",
   "metadata": {},
   "source": [
    "The format for a job shop scheduling instance respects the following syntax: \n",
    "- The first line containts only $n$ $m$ in this order  ($n$ is the number of jobs and $m$ is the number of machines)\n",
    "- Then $n$ lines are given. Each line $i$ is associated to the job $J_i$ and contains exactly $2 m$ integers $x^i_1$ $d^i_1$ $x^i_2$ $d^i_2$ $\\ldots$ $x^i_n$ $d^i_n$. Each $x^i_k$ is the $k^{th}$ machine required by the $k^{th}$ task of the job $J_i$, and $d^i_k$ represents its duration. "
   ]
  },
  {
   "attachments": {},
   "cell_type": "markdown",
   "metadata": {},
   "source": [
    "Consider for example the data file instance.data : \n",
    "    \n",
    " 6  6\n",
    "     \n",
    "2   1  0   3  1   6  3   7  5   3  4   6\n",
    "\n",
    "1   8  2   5  4  10  5  10  0  10  3   4\n",
    "\n",
    "2   5  3   4  5   8  0   9  1   1  4   7\n",
    " \n",
    " 1   5  0   5  2   5  3   3  4   8  5   9\n",
    " \n",
    " 2   9  1   3  4   5  5   4  0   3  3   1\n",
    " \n",
    " 1   3  3   3  5   9  0  10  4   4  2   1\n"
   ]
  },
  {
   "attachments": {},
   "cell_type": "markdown",
   "metadata": {},
   "source": [
    "This instance has $6$ jobs and $6$ machines. The first job requires the execution of task $T_{1,2}$ (on machine $2$) of duration $1$, \n",
    "then $T_{1,0}$ (on machine $0$) of duration $3$, etc. "
   ]
  },
  {
   "attachments": {},
   "cell_type": "markdown",
   "metadata": {},
   "source": [
    "Write a simple python code to parse the data file instance.data"
   ]
  },
  {
   "cell_type": "code",
   "execution_count": 2,
   "metadata": {},
   "outputs": [
    {
     "name": "stdout",
     "output_type": "stream",
     "text": [
      "[6, 6, 2, 1, 0, 3, 1, 6, 3, 7, 5, 3, 4, 6, 1, 8, 2, 5, 4, 10, 5, 10, 0, 10, 3, 4, 2, 5, 3, 4, 5, 8, 0, 9, 1, 1, 4, 7, 1, 5, 0, 5, 2, 5, 3, 3, 4, 8, 5, 9, 2, 9, 1, 3, 4, 5, 5, 4, 0, 3, 3, 1, 1, 3, 3, 3, 5, 9, 0, 10, 4, 4, 2, 1]\n"
     ]
    }
   ],
   "source": [
    "data = []\n",
    "\n",
    "# Open the data file\n",
    "with open(\"example.data\", \"r\") as file:\n",
    "    # Read the file line by line\n",
    "    for line in file:\n",
    "        # Strip any leading/trailing whitespace and split the line into individual values\n",
    "        values = line.strip().split()\n",
    "        \n",
    "        # Convert each value to an integer and append it to the data list\n",
    "        data.extend(map(int, values))\n",
    "\n",
    "# Print the parsed data\n",
    "print(data)\n"
   ]
  },
  {
   "cell_type": "code",
   "execution_count": 29,
   "metadata": {},
   "outputs": [
    {
     "name": "stdout",
     "output_type": "stream",
     "text": [
      "74\n",
      "[4, 6, 1, 8, 2, 5]\n",
      "[4, 6, 1, 8, 2, 5, 4, 10, 5, 10, 0, 10]\n",
      "[4, 6, 1, 8, 2, 5, 4, 10, 5, 10, 0, 10, 3, 4, 2, 5, 3, 4]\n",
      "[4, 6, 1, 8, 2, 5, 4, 10, 5, 10, 0, 10, 3, 4, 2, 5, 3, 4, 5, 8, 0, 9, 1, 1]\n",
      "[4, 6, 1, 8, 2, 5, 4, 10, 5, 10, 0, 10, 3, 4, 2, 5, 3, 4, 5, 8, 0, 9, 1, 1, 4, 7, 1, 5, 0, 5]\n",
      "[4, 6, 1, 8, 2, 5, 4, 10, 5, 10, 0, 10, 3, 4, 2, 5, 3, 4, 5, 8, 0, 9, 1, 1, 4, 7, 1, 5, 0, 5, 2, 5, 3, 3, 4, 8]\n",
      "[4, 6, 1, 8, 2, 5, 4, 10, 5, 10, 0, 10, 3, 4, 2, 5, 3, 4, 5, 8, 0, 9, 1, 1, 4, 7, 1, 5, 0, 5, 2, 5, 3, 3, 4, 8, 5, 9, 2, 9, 1, 3]\n",
      "[4, 6, 1, 8, 2, 5, 4, 10, 5, 10, 0, 10, 3, 4, 2, 5, 3, 4, 5, 8, 0, 9, 1, 1, 4, 7, 1, 5, 0, 5, 2, 5, 3, 3, 4, 8, 5, 9, 2, 9, 1, 3, 4, 5, 5, 4, 0, 3]\n",
      "[4, 6, 1, 8, 2, 5, 4, 10, 5, 10, 0, 10, 3, 4, 2, 5, 3, 4, 5, 8, 0, 9, 1, 1, 4, 7, 1, 5, 0, 5, 2, 5, 3, 3, 4, 8, 5, 9, 2, 9, 1, 3, 4, 5, 5, 4, 0, 3, 3, 1, 1, 3, 3, 3]\n",
      "[4, 6, 1, 8, 2, 5, 4, 10, 5, 10, 0, 10, 3, 4, 2, 5, 3, 4, 5, 8, 0, 9, 1, 1, 4, 7, 1, 5, 0, 5, 2, 5, 3, 3, 4, 8, 5, 9, 2, 9, 1, 3, 4, 5, 5, 4, 0, 3, 3, 1, 1, 3, 3, 3, 5, 9, 0, 10, 4, 4]\n"
     ]
    },
    {
     "ename": "IndexError",
     "evalue": "list index out of range",
     "output_type": "error",
     "traceback": [
      "\u001b[0;31m---------------------------------------------------------------------------\u001b[0m",
      "\u001b[0;31mIndexError\u001b[0m                                Traceback (most recent call last)",
      "Cell \u001b[0;32mIn[29], line 7\u001b[0m\n\u001b[1;32m      5\u001b[0m \u001b[39mfor\u001b[39;00m i \u001b[39min\u001b[39;00m \u001b[39mrange\u001b[39m(\u001b[39m2\u001b[39m, \u001b[39mlen\u001b[39m(data)):\n\u001b[1;32m      6\u001b[0m     \u001b[39mfor\u001b[39;00m j \u001b[39min\u001b[39;00m \u001b[39mrange\u001b[39m(\u001b[39m0\u001b[39m, m):\n\u001b[0;32m----> 7\u001b[0m         task\u001b[39m.\u001b[39mappend(data[i\u001b[39m*\u001b[39;49mm\u001b[39m+\u001b[39;49mj])\n\u001b[1;32m      8\u001b[0m     \u001b[39mprint\u001b[39m(task)\n\u001b[1;32m      9\u001b[0m     jobs\u001b[39m.\u001b[39mappend(data[i:i\u001b[39m+\u001b[39m\u001b[39m2\u001b[39m])\n",
      "\u001b[0;31mIndexError\u001b[0m: list index out of range"
     ]
    }
   ],
   "source": [
    "n, m = data[:2]\n",
    "\n",
    "import numpy as np\n",
    "\n",
    "jobs = []\n",
    "task = np.zeros(m,n)\n",
    "print(len(data))\n",
    "for i in range(2, len(data)):\n",
    "    for j in range(0, m):\n",
    "        task.append(data[i*m+j])\n",
    "    print(task)\n",
    "    jobs.append(data[i:i+2])\n",
    "\n",
    "\n",
    "\n",
    "\n",
    "# for i in range(2, len(data), 2):\n",
    "#     print(data[i+m*(i-2):i+2*m])\n",
    "#     jobs.append(data[i+m*(i-2):i+2*m])\n",
    "\n",
    "\n",
    "print(jobs)\n"
   ]
  },
  {
   "attachments": {},
   "cell_type": "markdown",
   "metadata": {},
   "source": [
    "Create a matrix machine that satisfies: machine[i][k] is the machine of the $k^{th}$ task of job $i$ (one line)"
   ]
  },
  {
   "cell_type": "code",
   "execution_count": 9,
   "metadata": {},
   "outputs": [
    {
     "name": "stdout",
     "output_type": "stream",
     "text": [
      "[2, 0, 1, 3, 5, 4]\n",
      "[0, 1, 3, 5, 4, 1]\n",
      "[1, 3, 5, 4, 1, 2]\n",
      "[3, 5, 4, 1, 2, 4]\n",
      "[5, 4, 1, 2, 4, 5]\n",
      "[4, 1, 2, 4, 5, 0]\n"
     ]
    }
   ],
   "source": [
    "# Create a matrix machine that satisfies: machine[i][k] is the machine of the kth task of job i (one line)\n",
    "\n",
    "machine = [[jobs[i][2 * k] for k in range(m)] for i in range(n)]\n",
    "\n",
    "# print(machine)\n",
    "# Print the machine matrix\n",
    "for row in machine:\n",
    "    print(row)"
   ]
  },
  {
   "attachments": {},
   "cell_type": "markdown",
   "metadata": {},
   "source": [
    "Create a matrix duration that satisfies: duration[i][k] is the duration of the $k^{th}$ task of job $i$ (one line)"
   ]
  },
  {
   "cell_type": "code",
   "execution_count": 10,
   "metadata": {},
   "outputs": [
    {
     "name": "stdout",
     "output_type": "stream",
     "text": [
      "[1, 3, 6, 7, 3, 6]\n",
      "[3, 6, 7, 3, 6, 8]\n",
      "[6, 7, 3, 6, 8, 5]\n",
      "[7, 3, 6, 8, 5, 10]\n",
      "[3, 6, 8, 5, 10, 10]\n",
      "[6, 8, 5, 10, 10, 10]\n"
     ]
    }
   ],
   "source": [
    "duration = [[jobs[i][2 * k + 1] for k in range(m)] for i in range(n)]\n",
    "\n",
    "# Print the duration matrix\n",
    "for row in duration:\n",
    "    print(row)"
   ]
  },
  {
   "attachments": {},
   "cell_type": "markdown",
   "metadata": {},
   "source": [
    "Compute a naive upper bound for the makespan. Note: this upper bound will be used as an upper bound for every interval variable we create."
   ]
  },
  {
   "cell_type": "code",
   "execution_count": 11,
   "metadata": {},
   "outputs": [
    {
     "name": "stdout",
     "output_type": "stream",
     "text": [
      "Naive Upper Bound: 49\n"
     ]
    }
   ],
   "source": [
    "# Compute the naive upper bound (maximum sum of durations across all jobs)\n",
    "naive_upper_bound = max(sum(jobs[i][2 * k + 1] for k in range(m)) for i in range(n))\n",
    "\n",
    "# Print the naive upper bound\n",
    "print(\"Naive Upper Bound:\", naive_upper_bound)"
   ]
  },
  {
   "attachments": {},
   "cell_type": "markdown",
   "metadata": {},
   "source": [
    "Create a CpoModel() and the different interval variables you need to solve this problem (don't forget to use the upper bound you computed earlier)"
   ]
  },
  {
   "cell_type": "code",
   "execution_count": 13,
   "metadata": {},
   "outputs": [],
   "source": [
    "from config import setup\n",
    "setup()\n",
    "\n",
    "## install docplex first with $pip install docplex\n",
    "from docplex.cp.model import *\n",
    "from docplex.cp.config import get_default\n"
   ]
  },
  {
   "cell_type": "code",
   "execution_count": 17,
   "metadata": {},
   "outputs": [],
   "source": [
    "def model(n):    \n",
    "    # Create the CPO model\n",
    "    model = CpoModel()\n",
    "\n",
    "    # Create the interval variables\n",
    "    tasks = [[interval_var(size=jobs[i][2 * k + 1], name=\"J{}-{}\".format(i, k)) for k in range(m)] for i in range(n)]\n",
    "\n",
    "    # Create the precedence constraints\n",
    "    for i in range(n):\n",
    "        for k in range(m - 1):\n",
    "            model.add(end_before_start(tasks[i][k], tasks[i][k + 1]))\n",
    "\n",
    "    return model, tasks"
   ]
  },
  {
   "attachments": {},
   "cell_type": "markdown",
   "metadata": {},
   "source": [
    "Post the precedence constraints using the end_before_start constraints "
   ]
  },
  {
   "cell_type": "code",
   "execution_count": null,
   "metadata": {},
   "outputs": [],
   "source": [
    "#Post the precedence constraints using end_before_start constraints\n",
    "\n",
    "model, tasks = model(n)\n",
    "\n",
    "# Create the objective function\n",
    "model.add(maximize(sum(end_of(tasks[i][m - 1]) for i in range(n))))\n",
    "\n",
    "# Solve the model\n",
    "print(\"Solving model....\")\n",
    "msol = model.solve(TimeLimit=10)\n",
    "print(\"Solution: \")\n",
    "msol.print_solution()\n",
    "\n",
    "# Create the CPO model\n",
    "model = CpoModel()\n",
    "\n",
    "# Create the interval variables\n"
   ]
  },
  {
   "attachments": {},
   "cell_type": "markdown",
   "metadata": {},
   "source": [
    "Post the disjunctive constraints using the no-overlap constraints "
   ]
  },
  {
   "cell_type": "code",
   "execution_count": null,
   "metadata": {},
   "outputs": [],
   "source": []
  },
  {
   "attachments": {},
   "cell_type": "markdown",
   "metadata": {},
   "source": [
    "Create a makespan interval variable and link it to some variables using the max global constraint\n",
    "http://ibmdecisionoptimization.github.io/docplex-doc/cp/docplex.cp.modeler.py.html?highlight=max#docplex.cp.modeler.max"
   ]
  },
  {
   "cell_type": "code",
   "execution_count": null,
   "metadata": {},
   "outputs": [],
   "source": []
  },
  {
   "attachments": {},
   "cell_type": "markdown",
   "metadata": {},
   "source": [
    "Add now the makespan as an objective function "
   ]
  },
  {
   "cell_type": "code",
   "execution_count": null,
   "metadata": {},
   "outputs": [],
   "source": []
  },
  {
   "attachments": {},
   "cell_type": "markdown",
   "metadata": {},
   "source": [
    "Solve this instance. What is the value of the makespan you found. You can print the solution in a format that is easy \n",
    "to see visually.  "
   ]
  },
  {
   "cell_type": "code",
   "execution_count": null,
   "metadata": {},
   "outputs": [],
   "source": []
  },
  {
   "cell_type": "code",
   "execution_count": null,
   "metadata": {},
   "outputs": [],
   "source": []
  },
  {
   "attachments": {},
   "cell_type": "markdown",
   "metadata": {},
   "source": [
    "Factorise your code so that it takes as input the data file and it solves the problem. Try to use few other instances https://github.com/tamy0612/JSPLIB/tree/master/instances\n",
    "    \n",
    "    \n"
   ]
  },
  {
   "cell_type": "code",
   "execution_count": null,
   "metadata": {},
   "outputs": [],
   "source": []
  },
  {
   "cell_type": "code",
   "execution_count": null,
   "metadata": {},
   "outputs": [],
   "source": []
  },
  {
   "attachments": {},
   "cell_type": "markdown",
   "metadata": {},
   "source": [
    "At this stage you are completly free to play. Try different instances, different configurations of the solver, different branching strategies, restarts, randomisation, etc. \n",
    "\n",
    "You may want to present your results as a cactus 🌵 plot : in the x-axis we have the runtime, on the y-axis, we have the number of instances solved. Also, some instances are still open in the literature. Have a look here for an up to date list of bounds http://optimizizer.com/TA.php"
   ]
  },
  {
   "cell_type": "code",
   "execution_count": null,
   "metadata": {},
   "outputs": [],
   "source": []
  },
  {
   "attachments": {},
   "cell_type": "markdown",
   "metadata": {},
   "source": [
    "What did you learn loday? "
   ]
  },
  {
   "cell_type": "raw",
   "metadata": {},
   "source": [
    "We learnt how to resolve scheduling problem with CSP, by considering the two following global constraints : the end_before_start and no_overlap. "
   ]
  }
 ],
 "metadata": {
  "kernelspec": {
   "display_name": "Python 3 (ipykernel)",
   "language": "python",
   "name": "python3"
  },
  "language_info": {
   "codemirror_mode": {
    "name": "ipython",
    "version": 3
   },
   "file_extension": ".py",
   "mimetype": "text/x-python",
   "name": "python",
   "nbconvert_exporter": "python",
   "pygments_lexer": "ipython3",
   "version": "3.8.10"
  },
  "latex_envs": {
   "LaTeX_envs_menu_present": true,
   "autoclose": false,
   "autocomplete": true,
   "bibliofile": "biblio.bib",
   "cite_by": "apalike",
   "current_citInitial": 1,
   "eqLabelWithNumbers": true,
   "eqNumInitial": 1,
   "hotkeys": {
    "equation": "Ctrl-E",
    "itemize": "Ctrl-I"
   },
   "labels_anchors": false,
   "latex_user_defs": false,
   "report_style_numbering": false,
   "user_envs_cfg": false
  }
 },
 "nbformat": 4,
 "nbformat_minor": 2
}
