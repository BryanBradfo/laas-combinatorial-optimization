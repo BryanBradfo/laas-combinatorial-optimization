{
 "cells": [
  {
   "attachments": {},
   "cell_type": "markdown",
   "metadata": {},
   "source": [
    "# Tutorial 4: Scheduling with CP: Some Basics "
   ]
  },
  {
   "attachments": {},
   "cell_type": "markdown",
   "metadata": {},
   "source": [
    "Today we discover a new family of problems, called scheduling. Scheduling problems are widely present in real life applications such as timetabelling, transportation, project management, and manufacturing. We consider a particular problem called the job shop scheduling problem.  In this problem, we are given a set of $n$ jobs: $J_1, J_2, \\ldots,  J_n$ and a set of $m$ machines $M_1, M_2, \\ldots,  M_m$. \n",
    "Each job $J_i$ is defined by a set of $m$ (non-preemptive) tasks_duration $T_{i,1} \\ldots T_{i,m}$. Every task $T_{i,k}$ is associated with a duration $p_{i,k}$ and is supposed to be scheduled on machine $M_k$. \n",
    "\n",
    "The problem has two sets of constraints: \n",
    "\n",
    " - Precedence constraints: Each job is associated with an order of tasks_duration to respect when scheduling the different tasks_duration.\n",
    " - Disjunctive constraints: Each machine can process only one task at a given time\n",
    "\n",
    "\n",
    "The standard optimisation version of this problem asks to minimize the makespan, i.e., the total scheduling time.\n"
   ]
  },
  {
   "attachments": {},
   "cell_type": "markdown",
   "metadata": {},
   "source": [
    "Constraint programming has been widely and successfully used to solve scheduling problems. Many global constraints have been proposed. CP solvers often offer a dedicated library for scheduling. \n",
    "Please have a look at the diffrent features proposed in docplex here http://ibmdecisionoptimization.github.io/docplex-doc/cp/docplex.cp.modeler.py.html?highlight=scheduling#scheduling-functions \n"
   ]
  },
  {
   "attachments": {},
   "cell_type": "markdown",
   "metadata": {},
   "source": [
    "In this tutorial, we will be using (only): \n",
    " - Interval variables for the different variables of the problem:  http://ibmdecisionoptimization.github.io/docplex-doc/cp/docplex.cp.expression.py.html?highlight=interval_var#docplex.cp.expression.interval_var\n",
    " \n",
    " - end_before_start constraints to model precedence constraints : http://ibmdecisionoptimization.github.io/docplex-doc/cp/docplex.cp.modeler.py.html?highlight=end_before_start#docplex.cp.modeler.end_before_start\n",
    "\n",
    "- no_overlap global constraint : http://ibmdecisionoptimization.github.io/docplex-doc/cp/docplex.cp.modeler.py.html?highlight=no_overlap#docplex.cp.modeler.no_overlap\n"
   ]
  },
  {
   "attachments": {},
   "cell_type": "markdown",
   "metadata": {},
   "source": [
    "The format for a job shop scheduling instance respects the following syntax: \n",
    "- The first line containts only $n$ $m$ in this order  ($n$ is the number of jobs and $m$ is the number of machines)\n",
    "- Then $n$ lines are given. Each line $i$ is associated to the job $J_i$ and contains exactly $2 m$ integers $x^i_1$ $d^i_1$ $x^i_2$ $d^i_2$ $\\ldots$ $x^i_n$ $d^i_n$. Each $x^i_k$ is the $k^{th}$ machine required by the $k^{th}$ task of the job $J_i$, and $d^i_k$ represents its duration. "
   ]
  },
  {
   "attachments": {},
   "cell_type": "markdown",
   "metadata": {},
   "source": [
    "Consider for example the data file instance.data : \n",
    "    \n",
    " 6  6\n",
    "     \n",
    "2   1  0   3  1   6  3   7  5   3  4   6\n",
    "\n",
    "1   8  2   5  4  10  5  10  0  10  3   4\n",
    "\n",
    "2   5  3   4  5   8  0   9  1   1  4   7\n",
    " \n",
    " 1   5  0   5  2   5  3   3  4   8  5   9\n",
    " \n",
    " 2   9  1   3  4   5  5   4  0   3  3   1\n",
    " \n",
    " 1   3  3   3  5   9  0  10  4   4  2   1\n"
   ]
  },
  {
   "attachments": {},
   "cell_type": "markdown",
   "metadata": {},
   "source": [
    "This instance has $6$ jobs and $6$ machines. The first job requires the execution of task $T_{1,2}$ (on machine $2$) of duration $1$, \n",
    "then $T_{1,0}$ (on machine $0$) of duration $3$, etc. "
   ]
  },
  {
   "attachments": {},
   "cell_type": "markdown",
   "metadata": {},
   "source": [
    "Write a simple python code to parse the data file instance.data"
   ]
  },
  {
   "cell_type": "code",
   "execution_count": 62,
   "metadata": {},
   "outputs": [
    {
     "name": "stdout",
     "output_type": "stream",
     "text": [
      "[6, 6, 2, 1, 0, 3, 1, 6, 3, 7, 5, 3, 4, 6, 1, 8, 2, 5, 4, 10, 5, 10, 0, 10, 3, 4, 2, 5, 3, 4, 5, 8, 0, 9, 1, 1, 4, 7, 1, 5, 0, 5, 2, 5, 3, 3, 4, 8, 5, 9, 2, 9, 1, 3, 4, 5, 5, 4, 0, 3, 3, 1, 1, 3, 3, 3, 5, 9, 0, 10, 4, 4, 2, 1]\n"
     ]
    }
   ],
   "source": [
    "data = []\n",
    "\n",
    "# Open the data file\n",
    "with open(\"example.data\", \"r\") as file:\n",
    "    # Read the file line by line\n",
    "    for line in file:\n",
    "        # Strip any leading/trailing whitespace and split the line into individual values\n",
    "        values = line.strip().split()\n",
    "        \n",
    "        # Convert each value to an integer and append it to the data list\n",
    "        data.extend(map(int, values))\n",
    "\n",
    "# Print the parsed data\n",
    "print(data)\n"
   ]
  },
  {
   "cell_type": "code",
   "execution_count": 63,
   "metadata": {},
   "outputs": [
    {
     "name": "stdout",
     "output_type": "stream",
     "text": [
      "The number of jobs is :  6\n",
      "The number of machines is :  6\n",
      "[2, 1, 0, 3, 1, 6, 3, 7, 5, 3, 4, 6, 1, 8, 2, 5, 4, 10, 5, 10, 0, 10, 3, 4, 2, 5, 3, 4, 5, 8, 0, 9, 1, 1, 4, 7, 1, 5, 0, 5, 2, 5, 3, 3, 4, 8, 5, 9, 2, 9, 1, 3, 4, 5, 5, 4, 0, 3, 3, 1, 1, 3, 3, 3, 5, 9, 0, 10, 4, 4, 2, 1]\n"
     ]
    }
   ],
   "source": [
    "n, m = data[:2]\n",
    "print(\"The number of jobs is : \", n)\n",
    "print(\"The number of machines is : \", m)\n",
    "data_tasks_duration = data[2:]\n",
    "print(data_tasks_duration)\n"
   ]
  },
  {
   "attachments": {},
   "cell_type": "markdown",
   "metadata": {},
   "source": [
    "Create a matrix machine that satisfies: machine[i][k] is the machine of the $k^{th}$ task of job $i$ (one line)"
   ]
  },
  {
   "cell_type": "code",
   "execution_count": 64,
   "metadata": {},
   "outputs": [
    {
     "name": "stdout",
     "output_type": "stream",
     "text": [
      "[[2. 0. 1. 3. 5. 4.]\n",
      " [1. 2. 4. 5. 0. 3.]\n",
      " [2. 3. 5. 0. 1. 4.]\n",
      " [1. 0. 2. 3. 4. 5.]\n",
      " [2. 1. 4. 5. 0. 3.]\n",
      " [1. 3. 5. 0. 4. 2.]]\n"
     ]
    }
   ],
   "source": [
    "import numpy as np\n",
    "machine = np.zeros((n,m))\n",
    "# print(jobs)\n",
    "\n",
    "for i in range(n):\n",
    "    for j in range(0,m):\n",
    "        k = 2*j\n",
    "        machine[i,j] = data_tasks_duration[i*2*m+k]\n",
    "\n",
    "print(machine)"
   ]
  },
  {
   "attachments": {},
   "cell_type": "markdown",
   "metadata": {},
   "source": [
    "Create a matrix duration that satisfies: duration[i][k] is the duration of the $k^{th}$ task of job $i$ (one line)"
   ]
  },
  {
   "cell_type": "code",
   "execution_count": 65,
   "metadata": {},
   "outputs": [
    {
     "name": "stdout",
     "output_type": "stream",
     "text": [
      "[[ 1.  3.  6.  7.  3.  6.]\n",
      " [ 8.  5. 10. 10. 10.  4.]\n",
      " [ 5.  4.  8.  9.  1.  7.]\n",
      " [ 5.  5.  5.  3.  8.  9.]\n",
      " [ 9.  3.  5.  4.  3.  1.]\n",
      " [ 3.  3.  9. 10.  4.  1.]]\n"
     ]
    }
   ],
   "source": [
    "duration = np.zeros((n,m))\n",
    "# print(jobs)\n",
    "\n",
    "for i in range(n):\n",
    "    for j in range(0,m):\n",
    "        k = 2*j\n",
    "        duration[i,j] = data_tasks_duration[i*2*m+k+1]\n",
    "\n",
    "print(duration)"
   ]
  },
  {
   "attachments": {},
   "cell_type": "markdown",
   "metadata": {},
   "source": [
    "Compute a naive upper bound for the makespan. Note: this upper bound will be used as an upper bound for every interval variable we create."
   ]
  },
  {
   "cell_type": "code",
   "execution_count": 66,
   "metadata": {},
   "outputs": [
    {
     "name": "stdout",
     "output_type": "stream",
     "text": [
      "Naive Upper Bound: 197.0\n"
     ]
    }
   ],
   "source": [
    "# Compute the naive upper bound (maximum sum of durations across all jobs)\n",
    "naive_upper_bound = np.sum(duration)\n",
    "# Print the naive upper bound\n",
    "print(\"Naive Upper Bound:\", naive_upper_bound)"
   ]
  },
  {
   "attachments": {},
   "cell_type": "markdown",
   "metadata": {},
   "source": [
    "Create a CpoModel() and the different interval variables you need to solve this problem (don't forget to use the upper bound you computed earlier)"
   ]
  },
  {
   "cell_type": "code",
   "execution_count": 67,
   "metadata": {},
   "outputs": [],
   "source": [
    "from config import setup\n",
    "setup()\n",
    "\n",
    "## install docplex first with $pip install docplex\n",
    "from docplex.cp.model import *\n",
    "from docplex.cp.config import get_default"
   ]
  },
  {
   "cell_type": "code",
   "execution_count": 68,
   "metadata": {},
   "outputs": [],
   "source": [
    "#Create a CpoModel() \n",
    "mdl = CpoModel()\n",
    "\n",
    "#Create task duration\n",
    "tasks_duration = [[mdl.interval_var(size=int(duration[i][j]), name=\"T{}{}\".format(i,j)) for i in range(n)] for j in range(m)]\n",
    "\n",
    "# Time of starting each task\n",
    "S = mdl.integer_var_list(n*m, 0, int(naive_upper_bound), \"marks\")"
   ]
  },
  {
   "attachments": {},
   "cell_type": "markdown",
   "metadata": {},
   "source": [
    "Post the precedence constraints using the end_before_start constraints "
   ]
  },
  {
   "cell_type": "code",
   "execution_count": 69,
   "metadata": {},
   "outputs": [],
   "source": [
    "#Add end_before_start constraints\n",
    "\n",
    "# For each job\n",
    "for job_i in range(n):\n",
    "\n",
    "    # For each machine \n",
    "    for machine_i in range(1,m):\n",
    "        \n",
    "        # Plusieurs machines ne peuvent pas effectuer le même job en même temps\n",
    "        mdl.add(mdl.end_before_start(tasks_duration[job_i][machine_i],tasks_duration[job_i][machine_i-1]))"
   ]
  },
  {
   "attachments": {},
   "cell_type": "markdown",
   "metadata": {},
   "source": [
    "Post the disjunctive constraints using the no-overlap constraints "
   ]
  },
  {
   "cell_type": "code",
   "execution_count": 70,
   "metadata": {},
   "outputs": [],
   "source": [
    "#Add no-overlap constraints\n",
    "\n",
    "#For each machine\n",
    "for machine_i in range(m):\n",
    "\n",
    "    #For each job\n",
    "    for job_i in range(n-1):\n",
    "        # Plusieurs jobs ne peuvent pas être effectués en même temps sur la même machine\n",
    "        mdl.add(mdl.no_overlap([tasks_duration[job_i][machine_i],tasks_duration[job_i+1][machine_i]]))"
   ]
  },
  {
   "attachments": {},
   "cell_type": "markdown",
   "metadata": {},
   "source": [
    "Create a makespan interval variable and link it to some variables using the max global constraint\n",
    "http://ibmdecisionoptimization.github.io/docplex-doc/cp/docplex.cp.modeler.py.html?highlight=max#docplex.cp.modeler.max"
   ]
  },
  {
   "cell_type": "code",
   "execution_count": 71,
   "metadata": {},
   "outputs": [],
   "source": [
    "#Create makespan interval variable\n",
    "makespan = mdl.interval_var(end=max([tasks_duration[i][m-1].end for i in range(n)]), name=\"makespan\")\n",
    "\n",
    "#On cherche à minimiser la fin de la dernière tâche à l'aide d'une contrainte max globale"
   ]
  },
  {
   "attachments": {},
   "cell_type": "markdown",
   "metadata": {},
   "source": [
    "Add now the makespan as an objective function "
   ]
  },
  {
   "cell_type": "code",
   "execution_count": 72,
   "metadata": {},
   "outputs": [],
   "source": [
    "mdl.add(minimize(end_of(makespan)))"
   ]
  },
  {
   "attachments": {},
   "cell_type": "markdown",
   "metadata": {},
   "source": [
    "Solve this instance. What is the value of the makespan you found. You can print the solution in a format that is easy \n",
    "to see visually.  "
   ]
  },
  {
   "cell_type": "code",
   "execution_count": 75,
   "metadata": {},
   "outputs": [
    {
     "name": "stdout",
     "output_type": "stream",
     "text": [
      " ! --------------------------------------------------- CP Optimizer 22.1.0.0 --\n",
      " ! Minimization problem - 67 variables, 60 constraints\n",
      " ! Presolve             = Off\n",
      " ! TimeLimit            = 10\n",
      " ! Workers              = 1\n",
      " ! Initial process time : 0.02s (0.02s extraction + 0.00s propagation)\n",
      " !  . Log search space  : 198.0 (before), 198.0 (after)\n",
      " !  . Memory usage      : 534.6 kB (before), 534.6 kB (after)\n",
      " ! Using sequential search.\n",
      " ! ----------------------------------------------------------------------------\n",
      " !          Best Branches  Non-fixed            Branch decision\n",
      "                        0         67                 -\n",
      " + New bound is 0\n",
      " *             0       15  0.07s               (gap is 0.00%)\n",
      " ! ----------------------------------------------------------------------------\n",
      " ! Search completed, 1 solution found.\n",
      " ! Best objective         : 0 (optimal - effective tol. is 0)\n",
      " ! Best bound             : 0\n",
      " ! ----------------------------------------------------------------------------\n",
      " ! Number of branches     : 17\n",
      " ! Number of fails        : 12\n",
      " ! Total memory usage     : 1.1 MB (1.0 MB CP Optimizer + 0.1 MB Concert)\n",
      " ! Time spent in solve    : 0.07s (0.06s engine + 0.02s extraction)\n",
      " ! Search speed (br. / s) : 283.3\n",
      " ! ----------------------------------------------------------------------------\n"
     ]
    }
   ],
   "source": [
    "#Solve this instance\n",
    "msol = mdl.solve(TimeLimit=10)\n",
    "# msol = mdl.start_search(SearchType=\"DepthFirst\")\n",
    "\n",
    "# j=0\n",
    "# for i in msol:\n",
    "#     j += 1\n",
    "#     i.write()\n",
    "# print(j)"
   ]
  },
  {
   "cell_type": "code",
   "execution_count": 76,
   "metadata": {},
   "outputs": [
    {
     "name": "stdout",
     "output_type": "stream",
     "text": [
      "Machine  0 : Job  0 :  T00: (start=30, end=31, size=1, length=1)  Job  1 :  T10: (start=22, end=30, size=8, length=8)  Job  2 :  T20: (start=17, end=22, size=5, length=5)  Job  3 :  T30: (start=12, end=17, size=5, length=5)  Job  4 :  T40: (start=3, end=12, size=9, length=9)  Job  5 :  T50: (start=0, end=3, size=3, length=3)  \n",
      "Machine  1 : Job  0 :  T01: (start=35, end=38, size=3, length=3)  Job  1 :  T11: (start=30, end=35, size=5, length=5)  Job  2 :  T21: (start=22, end=26, size=4, length=4)  Job  3 :  T31: (start=17, end=22, size=5, length=5)  Job  4 :  T41: (start=12, end=15, size=3, length=3)  Job  5 :  T51: (start=3, end=6, size=3, length=3)  \n",
      "Machine  2 : Job  0 :  T02: (start=45, end=51, size=6, length=6)  Job  1 :  T12: (start=35, end=45, size=10, length=10)  Job  2 :  T22: (start=27, end=35, size=8, length=8)  Job  3 :  T32: (start=22, end=27, size=5, length=5)  Job  4 :  T42: (start=15, end=20, size=5, length=5)  Job  5 :  T52: (start=6, end=15, size=9, length=9)  \n",
      "Machine  3 : Job  0 :  T03: (start=55, end=62, size=7, length=7)  Job  1 :  T13: (start=45, end=55, size=10, length=10)  Job  2 :  T23: (start=35, end=44, size=9, length=9)  Job  3 :  T33: (start=29, end=32, size=3, length=3)  Job  4 :  T43: (start=25, end=29, size=4, length=4)  Job  5 :  T53: (start=15, end=25, size=10, length=10)  \n",
      "Machine  4 : Job  0 :  T04: (start=26, end=29, size=3, length=3)  Job  1 :  T14: (start=16, end=26, size=10, length=10)  Job  2 :  T24: (start=15, end=16, size=1, length=1)  Job  3 :  T34: (start=7, end=15, size=8, length=8)  Job  4 :  T44: (start=4, end=7, size=3, length=3)  Job  5 :  T54: (start=0, end=4, size=4, length=4)  \n",
      "Machine  5 : Job  0 :  T05: (start=35, end=41, size=6, length=6)  Job  1 :  T15: (start=31, end=35, size=4, length=4)  Job  2 :  T25: (start=24, end=31, size=7, length=7)  Job  3 :  T35: (start=15, end=24, size=9, length=9)  Job  4 :  T45: (start=7, end=8, size=1, length=1)  Job  5 :  T55: (start=4, end=5, size=1, length=1)  \n"
     ]
    }
   ],
   "source": [
    "#Print in a format that is easy to see visually\n",
    "\n",
    "for i in range(m):\n",
    "    print(\"Machine \", i, \": \", end=\"\")\n",
    "    for j in range(n):\n",
    "        print(\"Job \", j, \": \", msol.get_var_solution(tasks_duration[i][j]), \" \", end=\"\")\n",
    "    print()\n"
   ]
  },
  {
   "attachments": {},
   "cell_type": "markdown",
   "metadata": {},
   "source": [
    "Factorise your code so that it takes as input the data file and it solves the problem. Try to use few other instances https://github.com/tamy0612/JSPLIB/tree/master/instances"
   ]
  },
  {
   "cell_type": "code",
   "execution_count": 124,
   "metadata": {},
   "outputs": [
    {
     "name": "stdout",
     "output_type": "stream",
     "text": [
      "The number of jobs is :  2\n",
      "The number of machines is :  2\n",
      "All jobs, where each task is succeeded by its duration is :  [1, 20, 0, 5, 0, 5, 1, 18]\n",
      "\n",
      " Just below, the matrix Machine such as machine[i][k] is the machine of the k_th task of job i \n",
      " [[1. 0.]\n",
      " [0. 1.]]\n",
      "\n",
      " Just below, the matrix Duration such as duration[i][k] is the duration of the k_th task of job i \n",
      " [[20.  5.]\n",
      " [ 5. 18.]]\n",
      "\n",
      " A Naive Upper Bound: would be :  48.0\n",
      " ! --------------------------------------------------- CP Optimizer 22.1.0.0 --\n",
      " ! Minimization problem - 7 variables, 12 constraints\n",
      " ! Presolve             = Off\n",
      " ! TimeLimit            = 10\n",
      " ! Workers              = 1\n",
      " ! Initial process time : 0.02s (0.02s extraction + 0.00s propagation)\n",
      " !  . Log search space  : 13.9 (before), 13.9 (after)\n",
      " !  . Memory usage      : 302.7 kB (before), 302.7 kB (after)\n",
      " ! Using sequential search.\n",
      " ! ----------------------------------------------------------------------------\n",
      " !          Best Branches  Non-fixed            Branch decision\n",
      "                        0          7                 -\n",
      " + New bound is 0\n",
      " *             0        4  0.02s               (gap is 0.00%)\n",
      " ! ----------------------------------------------------------------------------\n",
      " ! Search completed, 1 solution found.\n",
      " ! Best objective         : 0 (optimal - effective tol. is 0)\n",
      " ! Best bound             : 0\n",
      " ! ----------------------------------------------------------------------------\n",
      " ! Number of branches     : 6\n",
      " ! Number of fails        : 12\n",
      " ! Total memory usage     : 701.0 kB (659.0 kB CP Optimizer + 42.0 kB Concert)\n",
      " ! Time spent in solve    : 0.02s (0.00s engine + 0.02s extraction)\n",
      " ! Search speed (br. / s) : 600.0\n",
      " ! ----------------------------------------------------------------------------\n",
      "Machine  0 : Job  0 :  T00: (start=5, end=25, size=20, length=20)  Job  1 :  T10: (start=0, end=5, size=5, length=5)  \n",
      "Machine  1 : Job  0 :  T01: (start=25, end=30, size=5, length=5)  Job  1 :  T11: (start=5, end=23, size=18, length=18)  \n"
     ]
    }
   ],
   "source": [
    "#Factorise the code so that it takes as input the data file and solves the problem\n",
    "import numpy as np\n",
    "from config import setup\n",
    "setup()\n",
    "\n",
    "# install docplex first with $pip install docplex\n",
    "from docplex.cp.model import *\n",
    "from docplex.cp.config import get_default\n",
    "\n",
    "\n",
    "def solve(f):\n",
    "    data = []\n",
    "    with open(f, \"r\") as file:\n",
    "        # Read the file line by line\n",
    "        for line in file:\n",
    "            # Strip any leading/trailing whitespace and split the line into individual values\n",
    "            values = line.strip().split()\n",
    "            \n",
    "            # Convert each value to an integer and append it to the data list\n",
    "            data.extend(map(int, values))\n",
    "\n",
    "    n, m = data[:2]\n",
    "    print(\"The number of jobs is : \", n)\n",
    "    print(\"The number of machines is : \", m)\n",
    "    data_tasks_duration = data[2:]\n",
    "    print(\"All jobs, where each task is succeeded by its duration is : \", data_tasks_duration)\n",
    "\n",
    "    machine = np.zeros((n,m))\n",
    "\n",
    "    for i in range(n):\n",
    "        for j in range(0,m):\n",
    "            k = 2*j\n",
    "            machine[i,j] = data_tasks_duration[i*2*m+k]\n",
    "\n",
    "    print(\"\\n Just below, the matrix Machine such as machine[i][k] is the machine of the k_th task of job i \\n\" , machine)\n",
    "\n",
    "    duration = np.zeros((n,m))\n",
    "\n",
    "    for i in range(n):\n",
    "        for j in range(0,m):\n",
    "            k = 2*j\n",
    "            duration[i,j] = data_tasks_duration[i*2*m+k+1]\n",
    "\n",
    "    print(\"\\n Just below, the matrix Duration such as duration[i][k] is the duration of the k_th task of job i \\n\", duration)\n",
    "\n",
    "    # Compute the naive upper bound (maximum sum of durations across all jobs)\n",
    "    naive_upper_bound = np.sum(duration)\n",
    "    # Print the naive upper bound\n",
    "    print(\"\\n A Naive Upper Bound: would be : \", naive_upper_bound)\n",
    "\n",
    "    #Create a CpoModel() \n",
    "    mdl = CpoModel()\n",
    "\n",
    "    #Create task duration\n",
    "    tasks_duration = [[mdl.interval_var(size=int(duration[i][j]), name=\"T{}{}\".format(i,j)) for i in range(n)] for j in range(m)]\n",
    "\n",
    "    # Time of starting each task\n",
    "    S = mdl.integer_var_list(n*m, 0, int(naive_upper_bound), \"time_starting\")\n",
    "\n",
    "    #Variable machine\n",
    "    M = mdl.integer_var_list(m, 0, m-1, \"machine\")\n",
    "\n",
    "    #Associate machine with its task\n",
    "    # for i in range(n):\n",
    "    #     for j in range(m):\n",
    "    #         if (j != int(machine[i][j])):\n",
    "    #             mdl.add(start_of(tasks_duration[i][int(machine[i][j])]) != start_of(tasks_duration[i][j]))\n",
    "    #             mdl.add(end_of(tasks_duration[i][int(machine[i][j])]) != end_of(tasks_duration[i][j]))\n",
    "    #         else:\n",
    "    #             mdl.add(start_of(tasks_duration[i][int(machine[i][j])]) == start_of(tasks_duration[i][j]))\n",
    "    #             mdl.add(end_of(tasks_duration[i][int(machine[i][j])]) == end_of(tasks_duration[i][j]))\n",
    "\n",
    "\n",
    "    #Add end_before_start constraints\n",
    "\n",
    "    # For each job\n",
    "    for job_i in range(n):\n",
    "\n",
    "        # For each machine \n",
    "        for machine_i in range(1,m):\n",
    "            \n",
    "            # Plusieurs machines ne peuvent pas effectuer le même job en même temps\n",
    "            mdl.add(mdl.end_before_start(tasks_duration[job_i][machine_i],tasks_duration[job_i][machine_i-1]))\n",
    "\n",
    "\n",
    "    #Add no-overlap constraints\n",
    "\n",
    "    #For each machine\n",
    "    for machine_i in range(m):\n",
    "\n",
    "        #For each job\n",
    "        for job_i in range(n-1):\n",
    "            # Plusieurs jobs ne peuvent pas être effectués en même temps sur la même machine\n",
    "            mdl.add(mdl.no_overlap([tasks_duration[job_i][machine_i],tasks_duration[job_i+1][machine_i]]))\n",
    "\n",
    "    \n",
    "    #Create makespan interval variable\n",
    "    makespan = mdl.interval_var(end=max([tasks_duration[i][m-1].end for i in range(n)]), name=\"makespan\")\n",
    "\n",
    "\n",
    "    #On cherche à minimiser la fin de la dernière tâche à l'aide d'une contrainte max globale\n",
    "\n",
    "    mdl.add(minimize(end_of(makespan)))\n",
    "\n",
    "    #Solve this instance\n",
    "    msol = mdl.solve(TimeLimit=10)\n",
    "\n",
    "    #Print in a format that is easy to see visually\n",
    "\n",
    "    for i in range(m):\n",
    "        print(\"Machine \", i, \": \", end=\"\")\n",
    "        for j in range(n):\n",
    "            print(\"Job \", j, \": \", msol.get_var_solution(tasks_duration[i][j]), \" \", end=\"\")\n",
    "        print()\n",
    "\n",
    "\n",
    "\n",
    "solve(\"example3.data\")"
   ]
  },
  {
   "attachments": {},
   "cell_type": "markdown",
   "metadata": {},
   "source": [
    "At this stage you are completly free to play. Try different instances, different configurations of the solver, different branching strategies, restarts, randomisation, etc. \n",
    "\n",
    "You may want to present your results as a cactus 🌵 plot : in the x-axis we have the runtime, on the y-axis, we have the number of instances solved. Also, some instances are still open in the literature. Have a look here for an up to date list of bounds http://optimizizer.com/TA.php"
   ]
  },
  {
   "attachments": {},
   "cell_type": "markdown",
   "metadata": {},
   "source": [
    "What did you learn loday? "
   ]
  },
  {
   "cell_type": "raw",
   "metadata": {},
   "source": [
    "We learnt how to resolve scheduling problem with CSP, by considering the two following global constraints : the end_before_start and no_overlap.\n",
    "\n",
    "We also use interval_var, that is essential for scheduling problem."
   ]
  }
 ],
 "metadata": {
  "kernelspec": {
   "display_name": "Python 3 (ipykernel)",
   "language": "python",
   "name": "python3"
  },
  "language_info": {
   "codemirror_mode": {
    "name": "ipython",
    "version": 3
   },
   "file_extension": ".py",
   "mimetype": "text/x-python",
   "name": "python",
   "nbconvert_exporter": "python",
   "pygments_lexer": "ipython3",
   "version": "3.8.10"
  },
  "latex_envs": {
   "LaTeX_envs_menu_present": true,
   "autoclose": false,
   "autocomplete": true,
   "bibliofile": "biblio.bib",
   "cite_by": "apalike",
   "current_citInitial": 1,
   "eqLabelWithNumbers": true,
   "eqNumInitial": 1,
   "hotkeys": {
    "equation": "Ctrl-E",
    "itemize": "Ctrl-I"
   },
   "labels_anchors": false,
   "latex_user_defs": false,
   "report_style_numbering": false,
   "user_envs_cfg": false
  }
 },
 "nbformat": 4,
 "nbformat_minor": 2
}
